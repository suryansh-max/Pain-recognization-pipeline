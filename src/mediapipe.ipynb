{
 "cells": [
  {
   "cell_type": "code",
   "execution_count": 4,
   "metadata": {},
   "outputs": [
    {
     "name": "stderr",
     "output_type": "stream",
     "text": [
      "I0000 00:00:1744060618.441747  777683 gl_context.cc:369] GL version: 2.1 (2.1 Metal - 89.4), renderer: Apple M2\n",
      "W0000 00:00:1744060618.444579  785212 inference_feedback_manager.cc:114] Feedback manager requires a model with a single signature inference. Disabling support for feedback tensors.\n",
      "  0%|          | 0/54385 [00:00<?, ?it/s]W0000 00:00:1744060618.448721  785214 inference_feedback_manager.cc:114] Feedback manager requires a model with a single signature inference. Disabling support for feedback tensors.\n",
      "100%|██████████| 54385/54385 [09:50<00:00, 92.14it/s] \n"
     ]
    },
    {
     "name": "stdout",
     "output_type": "stream",
     "text": [
      "Saved feature DataFrame with shape: (7898, 1407)\n"
     ]
    }
   ],
   "source": [
    "import cv2\n",
    "import mediapipe as mp\n",
    "import pandas as pd\n",
    "import numpy as np\n",
    "from tqdm import tqdm\n",
    "import os\n",
    "\n",
    "# Load the data (modify path if needed)\n",
    "df = pd.read_csv(\"/Users/suryanshpatel/Projects/Directed Readings/Technical/src/data/Finaldata_combined.csv\")\n",
    "\n",
    "# Initialize MediaPipe Face Mesh with blendshape support\n",
    "mp_face_mesh = mp.solutions.face_mesh\n",
    "mp_face_detection = mp.solutions.face_detection\n",
    "mp_drawing = mp.solutions.drawing_utils\n",
    "face_mesh = mp_face_mesh.FaceMesh(static_image_mode=True)\n",
    "\n",
    "# Container for all features\n",
    "all_features = []\n",
    "\n",
    "for _, row in tqdm(df.iterrows(), total=len(df)):\n",
    "    rgb_path = row['Full_Path_RGB']\n",
    "    depth_path = row['Full_Path_Depth']\n",
    "    label = row['Label']\n",
    "\n",
    "    try:\n",
    "        # Read RGB image\n",
    "        image = cv2.imread(rgb_path)\n",
    "        image_rgb = cv2.cvtColor(image, cv2.COLOR_BGR2RGB)\n",
    "\n",
    "        # Read Depth image (assumes grayscale float or 8bit)\n",
    "        depth_image = cv2.imread(depth_path, cv2.IMREAD_GRAYSCALE)\n",
    "\n",
    "        # Process with MediaPipe\n",
    "        results = face_mesh.process(image_rgb)\n",
    "\n",
    "        if results.multi_face_landmarks:\n",
    "            landmarks = results.multi_face_landmarks[0]\n",
    "            xyz = []\n",
    "            for lm in landmarks.landmark:\n",
    "                xyz.extend([lm.x, lm.y, lm.z])\n",
    "\n",
    "            # Expression features placeholder (MediaPipe expression API can be added if needed)\n",
    "            expression_features = []  # e.g., use dummy or separate logic if required\n",
    "\n",
    "            # Depth features\n",
    "            depth_mean = np.mean(depth_image)\n",
    "            depth_std = np.std(depth_image)\n",
    "\n",
    "            # Combine all features\n",
    "            features = xyz + expression_features + [depth_mean, depth_std, label]\n",
    "            all_features.append(features)\n",
    "    except Exception as e:\n",
    "        print(f\"Skipping {rgb_path} due to error: {e}\")\n",
    "        continue\n",
    "\n",
    "# Build column names dynamically\n",
    "num_landmarks = 468\n",
    "xyz_cols = [f\"{axis}{i}\" for i in range(num_landmarks) for axis in ['x', 'y', 'z']]\n",
    "expression_cols = []  # Add if you use blendshapes\n",
    "depth_cols = ['depth_mean', 'depth_std']\n",
    "columns = xyz_cols + expression_cols + depth_cols + ['Label']\n",
    "\n",
    "# Create DataFrame\n",
    "features_df = pd.DataFrame(all_features, columns=columns)\n",
    "\n",
    "# Save to CSV for training\n",
    "features_df.to_csv(\"pain_features.csv\", index=False)\n",
    "print(\"Saved feature DataFrame with shape:\", features_df.shape)\n"
   ]
  },
  {
   "cell_type": "code",
   "execution_count": 6,
   "metadata": {},
   "outputs": [
    {
     "data": {
      "text/plain": [
       "(7898, 1407)"
      ]
     },
     "execution_count": 6,
     "metadata": {},
     "output_type": "execute_result"
    }
   ],
   "source": [
    "features_df.shape"
   ]
  },
  {
   "cell_type": "code",
   "execution_count": null,
   "metadata": {},
   "outputs": [
    {
     "name": "stderr",
     "output_type": "stream",
     "text": [
      "I0000 00:00:1744233100.754527  777683 gl_context.cc:369] GL version: 2.1 (2.1 Metal - 89.4), renderer: Apple M2\n"
     ]
    },
    {
     "ename": "RuntimeError",
     "evalue": "Unable to open file at /Users/suryanshpatel/Projects/Directed Readings/Technical/src/face_landmarker.task",
     "output_type": "error",
     "traceback": [
      "\u001b[31m---------------------------------------------------------------------------\u001b[39m",
      "\u001b[31mRuntimeError\u001b[39m                              Traceback (most recent call last)",
      "\u001b[36mCell\u001b[39m\u001b[36m \u001b[39m\u001b[32mIn[10]\u001b[39m\u001b[32m, line 26\u001b[39m\n\u001b[32m     19\u001b[39m base_options = python.BaseOptions(model_asset_path=model_path)\n\u001b[32m     20\u001b[39m options = vision.FaceLandmarkerOptions(\n\u001b[32m     21\u001b[39m     base_options=base_options,\n\u001b[32m     22\u001b[39m     output_face_blendshapes=\u001b[38;5;28;01mTrue\u001b[39;00m,\n\u001b[32m     23\u001b[39m     output_facial_transformation_matrixes=\u001b[38;5;28;01mTrue\u001b[39;00m,\n\u001b[32m     24\u001b[39m     num_faces=\u001b[32m1\u001b[39m\n\u001b[32m     25\u001b[39m )\n\u001b[32m---> \u001b[39m\u001b[32m26\u001b[39m face_landmarker = \u001b[43mvision\u001b[49m\u001b[43m.\u001b[49m\u001b[43mFaceLandmarker\u001b[49m\u001b[43m.\u001b[49m\u001b[43mcreate_from_options\u001b[49m\u001b[43m(\u001b[49m\u001b[43moptions\u001b[49m\u001b[43m)\u001b[49m\n\u001b[32m     28\u001b[39m \u001b[38;5;66;03m# Function to extract depth image features\u001b[39;00m\n\u001b[32m     29\u001b[39m \u001b[38;5;28;01mdef\u001b[39;00m\u001b[38;5;250m \u001b[39m\u001b[34mextract_depth_features\u001b[39m(depth_image_path):\n",
      "\u001b[36mFile \u001b[39m\u001b[32m~/Projects/Directed Readings/Technical/.venv/lib/python3.12/site-packages/mediapipe/tasks/python/vision/face_landmarker.py:3104\u001b[39m, in \u001b[36mFaceLandmarker.create_from_options\u001b[39m\u001b[34m(cls, options)\u001b[39m\n\u001b[32m   3091\u001b[39m   output_streams.append(\n\u001b[32m   3092\u001b[39m       \u001b[33m'\u001b[39m\u001b[33m:\u001b[39m\u001b[33m'\u001b[39m.join([_FACE_GEOMETRY_TAG, _FACE_GEOMETRY_STREAM_NAME])\n\u001b[32m   3093\u001b[39m   )\n\u001b[32m   3095\u001b[39m task_info = _TaskInfo(\n\u001b[32m   3096\u001b[39m     task_graph=_TASK_GRAPH_NAME,\n\u001b[32m   3097\u001b[39m     input_streams=[\n\u001b[32m   (...)\u001b[39m\u001b[32m   3102\u001b[39m     task_options=options,\n\u001b[32m   3103\u001b[39m )\n\u001b[32m-> \u001b[39m\u001b[32m3104\u001b[39m \u001b[38;5;28;01mreturn\u001b[39;00m \u001b[38;5;28;43mcls\u001b[39;49m\u001b[43m(\u001b[49m\n\u001b[32m   3105\u001b[39m \u001b[43m    \u001b[49m\u001b[43mtask_info\u001b[49m\u001b[43m.\u001b[49m\u001b[43mgenerate_graph_config\u001b[49m\u001b[43m(\u001b[49m\n\u001b[32m   3106\u001b[39m \u001b[43m        \u001b[49m\u001b[43menable_flow_limiting\u001b[49m\u001b[43m=\u001b[49m\u001b[43moptions\u001b[49m\u001b[43m.\u001b[49m\u001b[43mrunning_mode\u001b[49m\n\u001b[32m   3107\u001b[39m \u001b[43m        \u001b[49m\u001b[43m==\u001b[49m\u001b[43m \u001b[49m\u001b[43m_RunningMode\u001b[49m\u001b[43m.\u001b[49m\u001b[43mLIVE_STREAM\u001b[49m\n\u001b[32m   3108\u001b[39m \u001b[43m    \u001b[49m\u001b[43m)\u001b[49m\u001b[43m,\u001b[49m\n\u001b[32m   3109\u001b[39m \u001b[43m    \u001b[49m\u001b[43moptions\u001b[49m\u001b[43m.\u001b[49m\u001b[43mrunning_mode\u001b[49m\u001b[43m,\u001b[49m\n\u001b[32m   3110\u001b[39m \u001b[43m    \u001b[49m\u001b[43mpackets_callback\u001b[49m\u001b[43m \u001b[49m\u001b[38;5;28;43;01mif\u001b[39;49;00m\u001b[43m \u001b[49m\u001b[43moptions\u001b[49m\u001b[43m.\u001b[49m\u001b[43mresult_callback\u001b[49m\u001b[43m \u001b[49m\u001b[38;5;28;43;01melse\u001b[39;49;00m\u001b[43m \u001b[49m\u001b[38;5;28;43;01mNone\u001b[39;49;00m\u001b[43m,\u001b[49m\n\u001b[32m   3111\u001b[39m \u001b[43m\u001b[49m\u001b[43m)\u001b[49m\n",
      "\u001b[36mFile \u001b[39m\u001b[32m~/Projects/Directed Readings/Technical/.venv/lib/python3.12/site-packages/mediapipe/tasks/python/vision/core/base_vision_task_api.py:70\u001b[39m, in \u001b[36mBaseVisionTaskApi.__init__\u001b[39m\u001b[34m(self, graph_config, running_mode, packet_callback)\u001b[39m\n\u001b[32m     65\u001b[39m \u001b[38;5;28;01melif\u001b[39;00m packet_callback:\n\u001b[32m     66\u001b[39m   \u001b[38;5;28;01mraise\u001b[39;00m \u001b[38;5;167;01mValueError\u001b[39;00m(\n\u001b[32m     67\u001b[39m       \u001b[33m'\u001b[39m\u001b[33mThe vision task is in image or video mode, a user-defined result \u001b[39m\u001b[33m'\u001b[39m\n\u001b[32m     68\u001b[39m       \u001b[33m'\u001b[39m\u001b[33mcallback should not be provided.\u001b[39m\u001b[33m'\u001b[39m\n\u001b[32m     69\u001b[39m   )\n\u001b[32m---> \u001b[39m\u001b[32m70\u001b[39m \u001b[38;5;28mself\u001b[39m._runner = \u001b[43m_TaskRunner\u001b[49m\u001b[43m.\u001b[49m\u001b[43mcreate\u001b[49m\u001b[43m(\u001b[49m\u001b[43mgraph_config\u001b[49m\u001b[43m,\u001b[49m\u001b[43m \u001b[49m\u001b[43mpacket_callback\u001b[49m\u001b[43m)\u001b[49m\n\u001b[32m     71\u001b[39m \u001b[38;5;28mself\u001b[39m._running_mode = running_mode\n",
      "\u001b[31mRuntimeError\u001b[39m: Unable to open file at /Users/suryanshpatel/Projects/Directed Readings/Technical/src/face_landmarker.task"
     ]
    }
   ],
   "source": []
  },
  {
   "cell_type": "code",
   "execution_count": 14,
   "metadata": {},
   "outputs": [
    {
     "data": {
      "text/plain": [
       "(54385, 7)"
      ]
     },
     "execution_count": 14,
     "metadata": {},
     "output_type": "execute_result"
    }
   ],
   "source": [
    "df.shape"
   ]
  },
  {
   "cell_type": "code",
   "execution_count": 13,
   "metadata": {},
   "outputs": [
    {
     "data": {
      "text/plain": [
       "(7898, 1407)"
      ]
     },
     "execution_count": 13,
     "metadata": {},
     "output_type": "execute_result"
    }
   ],
   "source": [
    "features_df.shape\n"
   ]
  },
  {
   "cell_type": "code",
   "execution_count": 11,
   "metadata": {},
   "outputs": [
    {
     "data": {
      "text/html": [
       "<div>\n",
       "<style scoped>\n",
       "    .dataframe tbody tr th:only-of-type {\n",
       "        vertical-align: middle;\n",
       "    }\n",
       "\n",
       "    .dataframe tbody tr th {\n",
       "        vertical-align: top;\n",
       "    }\n",
       "\n",
       "    .dataframe thead th {\n",
       "        text-align: right;\n",
       "    }\n",
       "</style>\n",
       "<table border=\"1\" class=\"dataframe\">\n",
       "  <thead>\n",
       "    <tr style=\"text-align: right;\">\n",
       "      <th></th>\n",
       "      <th>x0</th>\n",
       "      <th>y0</th>\n",
       "      <th>z0</th>\n",
       "      <th>x1</th>\n",
       "      <th>y1</th>\n",
       "      <th>z1</th>\n",
       "      <th>x2</th>\n",
       "      <th>y2</th>\n",
       "      <th>z2</th>\n",
       "      <th>x3</th>\n",
       "      <th>...</th>\n",
       "      <th>z465</th>\n",
       "      <th>x466</th>\n",
       "      <th>y466</th>\n",
       "      <th>z466</th>\n",
       "      <th>x467</th>\n",
       "      <th>y467</th>\n",
       "      <th>z467</th>\n",
       "      <th>depth_mean</th>\n",
       "      <th>depth_std</th>\n",
       "      <th>Label</th>\n",
       "    </tr>\n",
       "  </thead>\n",
       "  <tbody>\n",
       "    <tr>\n",
       "      <th>0</th>\n",
       "      <td>0.534029</td>\n",
       "      <td>0.450986</td>\n",
       "      <td>-0.003032</td>\n",
       "      <td>0.537100</td>\n",
       "      <td>0.426559</td>\n",
       "      <td>-0.014693</td>\n",
       "      <td>0.534876</td>\n",
       "      <td>0.433376</td>\n",
       "      <td>-0.006165</td>\n",
       "      <td>0.532415</td>\n",
       "      <td>...</td>\n",
       "      <td>-0.007273</td>\n",
       "      <td>0.557662</td>\n",
       "      <td>0.334991</td>\n",
       "      <td>-0.000862</td>\n",
       "      <td>0.559195</td>\n",
       "      <td>0.326888</td>\n",
       "      <td>-0.000831</td>\n",
       "      <td>4.469501</td>\n",
       "      <td>1.092254</td>\n",
       "      <td>0</td>\n",
       "    </tr>\n",
       "    <tr>\n",
       "      <th>1</th>\n",
       "      <td>0.535109</td>\n",
       "      <td>0.462379</td>\n",
       "      <td>-0.005626</td>\n",
       "      <td>0.532303</td>\n",
       "      <td>0.433103</td>\n",
       "      <td>-0.018389</td>\n",
       "      <td>0.535053</td>\n",
       "      <td>0.439488</td>\n",
       "      <td>-0.008331</td>\n",
       "      <td>0.527432</td>\n",
       "      <td>...</td>\n",
       "      <td>-0.010039</td>\n",
       "      <td>0.563861</td>\n",
       "      <td>0.330486</td>\n",
       "      <td>-0.010843</td>\n",
       "      <td>0.566077</td>\n",
       "      <td>0.321636</td>\n",
       "      <td>-0.011568</td>\n",
       "      <td>4.469975</td>\n",
       "      <td>1.094820</td>\n",
       "      <td>0</td>\n",
       "    </tr>\n",
       "    <tr>\n",
       "      <th>2</th>\n",
       "      <td>0.523983</td>\n",
       "      <td>0.470786</td>\n",
       "      <td>-0.002771</td>\n",
       "      <td>0.519819</td>\n",
       "      <td>0.449220</td>\n",
       "      <td>-0.016546</td>\n",
       "      <td>0.522267</td>\n",
       "      <td>0.451690</td>\n",
       "      <td>-0.006387</td>\n",
       "      <td>0.515115</td>\n",
       "      <td>...</td>\n",
       "      <td>-0.011112</td>\n",
       "      <td>0.551678</td>\n",
       "      <td>0.341565</td>\n",
       "      <td>-0.010308</td>\n",
       "      <td>0.553765</td>\n",
       "      <td>0.332091</td>\n",
       "      <td>-0.010935</td>\n",
       "      <td>4.470196</td>\n",
       "      <td>1.095579</td>\n",
       "      <td>0</td>\n",
       "    </tr>\n",
       "    <tr>\n",
       "      <th>3</th>\n",
       "      <td>0.526209</td>\n",
       "      <td>0.460931</td>\n",
       "      <td>-0.001444</td>\n",
       "      <td>0.522617</td>\n",
       "      <td>0.443690</td>\n",
       "      <td>-0.014566</td>\n",
       "      <td>0.525091</td>\n",
       "      <td>0.445433</td>\n",
       "      <td>-0.005214</td>\n",
       "      <td>0.519022</td>\n",
       "      <td>...</td>\n",
       "      <td>-0.009853</td>\n",
       "      <td>0.553484</td>\n",
       "      <td>0.346150</td>\n",
       "      <td>-0.008494</td>\n",
       "      <td>0.555271</td>\n",
       "      <td>0.338751</td>\n",
       "      <td>-0.009093</td>\n",
       "      <td>4.471546</td>\n",
       "      <td>1.089395</td>\n",
       "      <td>0</td>\n",
       "    </tr>\n",
       "    <tr>\n",
       "      <th>4</th>\n",
       "      <td>0.532931</td>\n",
       "      <td>0.464505</td>\n",
       "      <td>-0.002699</td>\n",
       "      <td>0.532458</td>\n",
       "      <td>0.441020</td>\n",
       "      <td>-0.017106</td>\n",
       "      <td>0.532687</td>\n",
       "      <td>0.445444</td>\n",
       "      <td>-0.006506</td>\n",
       "      <td>0.526321</td>\n",
       "      <td>...</td>\n",
       "      <td>-0.011079</td>\n",
       "      <td>0.558830</td>\n",
       "      <td>0.333272</td>\n",
       "      <td>-0.007666</td>\n",
       "      <td>0.560583</td>\n",
       "      <td>0.323697</td>\n",
       "      <td>-0.008000</td>\n",
       "      <td>4.469280</td>\n",
       "      <td>1.100579</td>\n",
       "      <td>0</td>\n",
       "    </tr>\n",
       "  </tbody>\n",
       "</table>\n",
       "<p>5 rows × 1407 columns</p>\n",
       "</div>"
      ],
      "text/plain": [
       "         x0        y0        z0        x1        y1        z1        x2  \\\n",
       "0  0.534029  0.450986 -0.003032  0.537100  0.426559 -0.014693  0.534876   \n",
       "1  0.535109  0.462379 -0.005626  0.532303  0.433103 -0.018389  0.535053   \n",
       "2  0.523983  0.470786 -0.002771  0.519819  0.449220 -0.016546  0.522267   \n",
       "3  0.526209  0.460931 -0.001444  0.522617  0.443690 -0.014566  0.525091   \n",
       "4  0.532931  0.464505 -0.002699  0.532458  0.441020 -0.017106  0.532687   \n",
       "\n",
       "         y2        z2        x3  ...      z465      x466      y466      z466  \\\n",
       "0  0.433376 -0.006165  0.532415  ... -0.007273  0.557662  0.334991 -0.000862   \n",
       "1  0.439488 -0.008331  0.527432  ... -0.010039  0.563861  0.330486 -0.010843   \n",
       "2  0.451690 -0.006387  0.515115  ... -0.011112  0.551678  0.341565 -0.010308   \n",
       "3  0.445433 -0.005214  0.519022  ... -0.009853  0.553484  0.346150 -0.008494   \n",
       "4  0.445444 -0.006506  0.526321  ... -0.011079  0.558830  0.333272 -0.007666   \n",
       "\n",
       "       x467      y467      z467  depth_mean  depth_std  Label  \n",
       "0  0.559195  0.326888 -0.000831    4.469501   1.092254      0  \n",
       "1  0.566077  0.321636 -0.011568    4.469975   1.094820      0  \n",
       "2  0.553765  0.332091 -0.010935    4.470196   1.095579      0  \n",
       "3  0.555271  0.338751 -0.009093    4.471546   1.089395      0  \n",
       "4  0.560583  0.323697 -0.008000    4.469280   1.100579      0  \n",
       "\n",
       "[5 rows x 1407 columns]"
      ]
     },
     "execution_count": 11,
     "metadata": {},
     "output_type": "execute_result"
    }
   ],
   "source": [
    "features_df.head()"
   ]
  },
  {
   "cell_type": "code",
   "execution_count": 12,
   "metadata": {},
   "outputs": [],
   "source": [
    "# All XYZ columns\n",
    "landmark_cols = [col for col in features_df.columns if col.startswith(('x', 'y', 'z'))]\n",
    "\n",
    "# Get landmark data for the first face\n",
    "landmarks_face_0 = features_df.loc[0, landmark_cols].values.reshape(468, 3)\n",
    "\n",
    "# landmarks_face_0 is a numpy array of shape (468, 3)\n"
   ]
  }
 ],
 "metadata": {
  "kernelspec": {
   "display_name": ".venv",
   "language": "python",
   "name": "python3"
  },
  "language_info": {
   "codemirror_mode": {
    "name": "ipython",
    "version": 3
   },
   "file_extension": ".py",
   "mimetype": "text/x-python",
   "name": "python",
   "nbconvert_exporter": "python",
   "pygments_lexer": "ipython3",
   "version": "3.12.8"
  }
 },
 "nbformat": 4,
 "nbformat_minor": 2
}
