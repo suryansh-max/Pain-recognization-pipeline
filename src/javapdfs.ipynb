{
 "cells": [
  {
   "cell_type": "code",
   "execution_count": null,
   "metadata": {},
   "outputs": [],
   "source": [
    "pip install selenium webdriver-manager requests bs4\n"
   ]
  },
  {
   "cell_type": "code",
   "execution_count": null,
   "metadata": {},
   "outputs": [],
   "source": [
    "import os\n",
    "import time\n",
    "import requests\n",
    "from selenium import webdriver\n",
    "from selenium.webdriver.chrome.service import Service\n",
    "from selenium.webdriver.common.by import By\n",
    "from selenium.webdriver.common.action_chains import ActionChains\n",
    "from selenium.webdriver.common.keys import Keys\n",
    "from webdriver_manager.chrome import ChromeDriverManager\n",
    "\n",
    "# Set up Selenium WebDriver\n",
    "options = webdriver.ChromeOptions()\n",
    "options.add_argument(\"--headless\")  # Runs in background, remove if you want to see browser\n",
    "options.add_argument(\"--disable-gpu\")\n",
    "options.add_argument(\"--window-size=1920,1080\")\n",
    "\n",
    "driver = webdriver.Chrome(service=Service(ChromeDriverManager().install()), options=options)\n",
    "\n",
    "# Open the target website\n",
    "website_url = \"https://courses.genzcareer.org/complete-interview-prepration-id23242555de32f5/\"\n",
    "driver.get(website_url)\n",
    "time.sleep(5)  # Wait for the page to load\n",
    "\n",
    "# Expand all dropdowns\n",
    "dropdowns = driver.find_elements(By.CLASS_NAME, \"accordion-toggle\")  # Update if needed\n",
    "for dropdown in dropdowns:\n",
    "    try:\n",
    "        driver.execute_script(\"arguments[0].scrollIntoView();\", dropdown)\n",
    "        ActionChains(driver).move_to_element(dropdown).click().perform()\n",
    "        time.sleep(2)  # Wait for content to load\n",
    "    except:\n",
    "        pass\n",
    "\n",
    "# Extract all PDF links\n",
    "pdf_links = []\n",
    "links = driver.find_elements(By.TAG_NAME, \"a\")\n",
    "\n",
    "for link in links:\n",
    "    href = link.get_attribute(\"href\")\n",
    "    if href and href.endswith(\".pdf\"):\n",
    "        pdf_links.append(href)\n",
    "\n",
    "# Close the browser\n",
    "driver.quit()\n",
    "\n",
    "# Create a folder to save PDFs\n",
    "save_folder = \"downloaded_pdfs\"\n",
    "os.makedirs(save_folder, exist_ok=True)\n",
    "\n",
    "# Download all PDFs\n",
    "for pdf_link in pdf_links:\n",
    "    pdf_name = os.path.join(save_folder, pdf_link.split(\"/\")[-1])\n",
    "    print(f\"Downloading: {pdf_name}\")\n",
    "    \n",
    "    with requests.get(pdf_link, stream=True) as r:\n",
    "        with open(pdf_name, \"wb\") as f:\n",
    "            for chunk in r.iter_content(chunk_size=8192):\n",
    "                f.write(chunk)\n",
    "\n",
    "print(\"Download complete!\")\n"
   ]
  },
  {
   "cell_type": "code",
   "execution_count": null,
   "metadata": {},
   "outputs": [],
   "source": []
  }
 ],
 "metadata": {
  "kernelspec": {
   "display_name": ".venv",
   "language": "python",
   "name": "python3"
  },
  "language_info": {
   "codemirror_mode": {
    "name": "ipython",
    "version": 3
   },
   "file_extension": ".py",
   "mimetype": "text/x-python",
   "name": "python",
   "nbconvert_exporter": "python",
   "pygments_lexer": "ipython3",
   "version": "3.9.21"
  }
 },
 "nbformat": 4,
 "nbformat_minor": 2
}
